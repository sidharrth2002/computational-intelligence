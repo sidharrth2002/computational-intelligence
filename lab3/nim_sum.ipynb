{
 "cells": [
  {
   "cell_type": "markdown",
   "metadata": {},
   "source": [
    "# Nim Policy Search\n",
    "\n",
    "Nim is a simple game where two players take turns removing objects from a pile. The player who removes the last object loses. The game is described in detail [here](https://en.wikipedia.org/wiki/Nim). There is a mathematical strategy to win Nim, by ensuring you always leave the opponent with a nim-sum number of objects (groups of 1, 2 and 4).\n",
    "\n",
    "In this notebook, we will play nim-sum using the following agents:\n",
    "1. An agent using fixed rules based on nim-sum\n",
    "2. An agent using evolved rules\n",
    "3. An agent using minmax\n",
    "4. An agent using reinforcement learning\n",
    "\n",
    "> Sidharrth Nagappan, 2022"
   ]
  },
  {
   "cell_type": "code",
   "execution_count": 1,
   "metadata": {},
   "outputs": [],
   "source": [
    "import logging\n",
    "import random"
   ]
  },
  {
   "cell_type": "code",
   "execution_count": 2,
   "metadata": {},
   "outputs": [],
   "source": [
    "class Nim:\n",
    "    def __init__(self, num_rows: int, k: int = None):\n",
    "        self.num_rows = num_rows\n",
    "        self._k = k\n",
    "        self._rows = [i*2+1 for i in range(num_rows)]\n",
    "\n",
    "    def nimming_remove(self, row: int, num_objects: int):\n",
    "        assert self._rows[row] >= num_objects\n",
    "        assert self._k is None or num_objects <= self._k\n",
    "        self._rows[row] -= num_objects\n",
    "    \n",
    "    def nimming_add(self, row: int, num_objects: int):\n",
    "        assert self._rows[row] + num_objects <= (row+1)*2\n",
    "        assert self._k is None or num_objects <= self._k\n",
    "        self._rows[row] += num_objects\n",
    "    \n",
    "    def goal(self) -> bool:\n",
    "        return sum(self._rows) == 0"
   ]
  },
  {
   "cell_type": "code",
   "execution_count": null,
   "metadata": {},
   "outputs": [],
   "source": [
    "class ExpertFixedRuleAgent:\n",
    "    '''\n",
    "    Play the game of Nim using a fixed rule (always leave nim-sum at the end of turn)\n",
    "    '''\n",
    "    def nim_sum(self, nim: Nim):\n",
    "        return sum([i^r for i, r in enumerate(nim._rows)])\n",
    "    \n",
    "    def play(self, nim: Nim):\n",
    "        # remove objects from row to make nim-sum 0\n",
    "        nim_sum = self.nim_sum(nim)\n",
    "        for i, row in enumerate(nim._rows):\n",
    "            if row ^ nim_sum < row:\n",
    "                nim.nimming_remove(i, row - (row ^ nim_sum))\n",
    "                return        \n",
    "    \n",
    "    # remove objects to leave nim-sum at the end of turn\n",
    "    # loop over rows and split objects into 1, 2, 4\n",
    "    # remove left over objects\n",
    "        "
   ]
  },
  {
   "cell_type": "markdown",
   "metadata": {},
   "source": []
  }
 ],
 "metadata": {
  "kernelspec": {
   "display_name": "Python 3.8.2 64-bit",
   "language": "python",
   "name": "python3"
  },
  "language_info": {
   "codemirror_mode": {
    "name": "ipython",
    "version": 3
   },
   "file_extension": ".py",
   "mimetype": "text/x-python",
   "name": "python",
   "nbconvert_exporter": "python",
   "pygments_lexer": "ipython3",
   "version": "3.8.2"
  },
  "orig_nbformat": 4,
  "vscode": {
   "interpreter": {
    "hash": "aee8b7b246df8f9039afb4144a1f6fd8d2ca17a180786b69acc140d282b71a49"
   }
  }
 },
 "nbformat": 4,
 "nbformat_minor": 2
}
