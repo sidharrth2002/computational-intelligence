{
 "cells": [
  {
   "cell_type": "markdown",
   "metadata": {},
   "source": [
    "# Set Cover Problem\n",
    "\n",
    "The set cover problem is a combinatorial optimization problem. The problem is to find the smallest set of sets that covers all elements of a given universe. For example, suppose we have a universe of 10 elements and 5 sets, each of which contains a subset of the universe. The goal is to find the smallest set of sets that covers all elements of the universe. \n",
    "\n",
    "Since the problem is NP-hard, we have to use a heuristic algorithm to solve and there exists no theoretically polynomial time algorithm.\n",
    "\n",
    "In this notebook, I will attempt to solve the set cover problem using the following algorithms:\n",
    "1. Naive Greedy\n",
    "2. Greedy with a better cost function\n",
    "3. Building a Fully Connected Graph and over-complicating things\n",
    "2. Breadth First Traversal\n",
    "3. A* Traversal\n",
    "\n",
    "> Sidharrth Nagappan, 2022"
   ]
  },
  {
   "cell_type": "markdown",
   "metadata": {},
   "source": [
    "### Necessary Imports"
   ]
  },
  {
   "cell_type": "code",
   "execution_count": 1,
   "metadata": {},
   "outputs": [],
   "source": [
    "import random\n",
    "from collections import deque\n",
    "import itertools\n",
    "import time"
   ]
  },
  {
   "cell_type": "markdown",
   "metadata": {},
   "source": [
    "### Building the problem set"
   ]
  },
  {
   "cell_type": "code",
   "execution_count": 2,
   "metadata": {},
   "outputs": [
    {
     "name": "stdout",
     "output_type": "stream",
     "text": [
      "N = [[0], [1], [0], [4], [0], [1], [4], [4], [4], [1, 3], [0, 1], [2], [1], [0], [0, 2], [2, 4], [3], [3], [4], [2, 4], [0], [1], [0, 1], [3], [2, 3]]\n"
     ]
    }
   ],
   "source": [
    "# setting a constant seed for reproducibility\n",
    "SEED = 42\n",
    "\n",
    "def problem(N, seed=SEED):\n",
    "    random.seed(seed)\n",
    "    return [\n",
    "        list(set(random.randint(0, N - 1) for n in range(random.randint(N // 5, N // 2))))\n",
    "        for n in range(random.randint(N, N * 5))\n",
    "    ]\n",
    "\n",
    "for n in [5]:\n",
    "    print(f\"N = {problem(n)}\")"
   ]
  },
  {
   "cell_type": "markdown",
   "metadata": {},
   "source": [
    "### Naive Greedy Algorithm\n",
    "\n",
    "The greedy algorithm essentially traverses through a sorted list of subsets and keeps adding the subset to the solution set if it covers any new elements. The algorithm is very naive as it does not take into account the number of new elements."
   ]
  },
  {
   "cell_type": "code",
   "execution_count": 3,
   "metadata": {},
   "outputs": [],
   "source": [
    "def greedy(N):\n",
    "    goal = set(range(N))\n",
    "    covered = set()\n",
    "    solution = list()\n",
    "    all_lists = sorted(problem(N, seed=42), key=lambda l: len(l))\n",
    "    while goal != covered:\n",
    "        x = all_lists.pop(0)\n",
    "        if not set(x) < covered:\n",
    "            solution.append(x)\n",
    "            covered |= set(x)\n",
    "\n",
    "    print(\n",
    "        f\"Naive greedy solution for N={N}: w={sum(len(_) for _ in solution)} (bloat={(sum(len(_) for _ in solution)-N)/N*100:.0f}%)\"\n",
    "    )"
   ]
  },
  {
   "cell_type": "markdown",
   "metadata": {},
   "source": [
    "### Smarter Greedy Algorithm (Sorting at each step)\n",
    "\n",
    "In real-life scenarios, the cost depends on the relative price of visiting a node/choosing an option. Since we consider all options to be arbitrarily priced, we use a constant cost of 1. This version of the greedy algorithm takes the subset with the lowest $f$ where:\n",
    "\n",
    "- $S_e$ is the expected solution (containing all the unique elements)\n",
    "- $n_i$ is the current subset\n",
    "- The cost is set to 1 here, since there is no \"business\" cost associated with choosing a subset\n",
    "\n",
    "$$f_i = 1 / |n_i - S_e|$$"
   ]
  },
  {
   "cell_type": "code",
   "execution_count": 4,
   "metadata": {},
   "outputs": [],
   "source": [
    "def set_covering_problem_greedy(expected_solution, subsets, costs):\n",
    "    cost = 0\n",
    "    visited_nodes = 0\n",
    "    already_discovered = set()\n",
    "    final_solution = []\n",
    "    while covered != expected_solution:\n",
    "        subset = min(subsets, key=lambda s: costs[subsets.index(s)] / (len(s-covered) + 1))\n",
    "        final_solution.append(subset)\n",
    "        cost += costs[subsets.index(subset)]\n",
    "        visited = visited+1\n",
    "        covered |= subset\n",
    "    print(\"NUMBER OF VISITED NODES: \", visited)\n",
    "    print(\"w: \", sum(len(_) for _ in final_solution))\n",
    "    return final_solution, cost"
   ]
  },
  {
   "cell_type": "markdown",
   "metadata": {},
   "source": [
    "### A* Traversal\n",
    "\n",
    "The A* algorithm requires a monotonic heuristic function that symbolises the remaining distance between the current state and the goal state. In the case of the set cover problem, the heuristic function is the number of elements that are not covered by the current solution set. The algorithm is implemented using a priority queue. There are two ways of implementing A*, we can either:\n",
    "\n",
    "1. build a fully connected graph and use an open and closed list to traverse\n",
    "2. use a priority queue\n",
    "\n",
    "For learning purposes, I will implement both, even though the second method is more efficient."
   ]
  },
  {
   "cell_type": "code",
   "execution_count": 5,
   "metadata": {},
   "outputs": [],
   "source": [
    "from helpers import State, PriorityQueue\n",
    "\n",
    "# def are_we_done(N, discovered_elements):\n",
    "#     '''\n",
    "#     Checks if all elements are discovered\n",
    "#     args:\n",
    "#         N: number of elements to expect (final list is a range of this)\n",
    "#         discovered_elements: list of discovered elements so far\n",
    "#     '''\n",
    "#     # flattened_list = list(itertools.chain.from_iterable(self.final_list))\n",
    "#     for i in range(N):\n",
    "#         if i not in discovered_elements:\n",
    "#             return False\n",
    "#     print(\"We are done\")\n",
    "#     return True"
   ]
  },
  {
   "cell_type": "code",
   "execution_count": 25,
   "metadata": {},
   "outputs": [],
   "source": [
    "from typing import Callable\n",
    "\n",
    "import numpy as np\n",
    "\n",
    "\n",
    "def astar_search(\n",
    "    initial_state: State,\n",
    "    subsets: list,\n",
    "    are_we_done: Callable,\n",
    "    parents: dict,\n",
    "    cost_of_each_state: dict,\n",
    "    priority_function: Callable,\n",
    "    unit_cost: Callable,\n",
    "    N: int\n",
    "):\n",
    "    frontier = PriorityQueue()\n",
    "    parents.clear()\n",
    "    cost_of_each_state.clear()\n",
    "    \n",
    "    state = initial_state\n",
    "    parents[state] = None\n",
    "    cost_of_each_state[state] = 0\n",
    "    # to find length at the end without needed to flatten the state\n",
    "    discovered_elements = []\n",
    "    \n",
    "    while state is not None and not are_we_done(N, state):\n",
    "        for subset in subsets:\n",
    "            # if this list has already been collected, skip\n",
    "            if subset in state.copy_data():\n",
    "                # print(\"Already in\")\n",
    "                continue\n",
    "            new_state = add_to_state(state, subset)\n",
    "            state_cost = unit_cost(subset)\n",
    "            # if new_state not in cost_of_each_state or cost_of_each_state[new_state] > cost_of_each_state[state] + state_cost:\n",
    "            if new_state not in cost_of_each_state and new_state not in frontier:\n",
    "                parents[new_state] = state\n",
    "                cost_of_each_state[new_state] = cost_of_each_state[state] + state_cost\n",
    "                frontier.push(new_state, p=priority_function(new_state))\n",
    "            elif new_state in frontier and cost_of_each_state[new_state] > cost_of_each_state[state] + state_cost:\n",
    "                parents[new_state] = state\n",
    "                cost_of_each_state[new_state] = cost_of_each_state[state] + state_cost\n",
    "        if frontier:\n",
    "            state = frontier.pop()\n",
    "        else:\n",
    "            state = None\n",
    "\n",
    "    path = list()\n",
    "    s = state\n",
    "\n",
    "    while s:\n",
    "        path.append(s.copy_data())\n",
    "        s = parents[s]\n",
    "\n",
    "    print(f\"Path: {len(list(itertools.chain.from_iterable(path[0])))}\")\n",
    "    print(f\"Found a solution in {len(path):,} steps; visited {len(cost_of_each_state):,} states\")\n",
    "    return list(reversed(path))"
   ]
  },
  {
   "cell_type": "code",
   "execution_count": 26,
   "metadata": {},
   "outputs": [],
   "source": [
    "def are_we_done(N, state):\n",
    "    flattened_list = list(itertools.chain.from_iterable(state.copy_data().tolist()))\n",
    "    for i in range(N):\n",
    "        if i not in flattened_list:\n",
    "            return False\n",
    "    return True"
   ]
  },
  {
   "cell_type": "code",
   "execution_count": 30,
   "metadata": {},
   "outputs": [
    {
     "name": "stderr",
     "output_type": "stream",
     "text": [
      "<ipython-input-25-ee0388014e72>:33: DeprecationWarning: elementwise comparison failed; this will raise an error in the future.\n",
      "  if subset in state.copy_data():\n"
     ]
    },
    {
     "name": "stdout",
     "output_type": "stream",
     "text": [
      "Path: 23\n",
      "Found a solution in 5 steps; visited 34,742 states\n"
     ]
    },
    {
     "data": {
      "text/plain": [
       "[array([[8, 4, 7]]),\n",
       " array([list([8, 4, 7]), list([1, 3, 13, 14])], dtype=object),\n",
       " array([list([8, 4, 7]), list([1, 3, 13, 14]),\n",
       "        list([2, 6, 8, 10, 12, 15, 18])], dtype=object),\n",
       " array([list([8, 4, 7]), list([1, 3, 13, 14]),\n",
       "        list([2, 6, 8, 10, 12, 15, 18]), list([16, 9, 19, 6])],\n",
       "       dtype=object),\n",
       " array([list([8, 4, 7]), list([1, 3, 13, 14]),\n",
       "        list([2, 6, 8, 10, 12, 15, 18]), list([16, 9, 19, 6]),\n",
       "        list([0, 5, 11, 16, 17])], dtype=object)]"
      ]
     },
     "execution_count": 30,
     "metadata": {},
     "output_type": "execute_result"
    }
   ],
   "source": [
    "import numpy as np\n",
    "\n",
    "N = 20\n",
    "GOAL = State(np.array(range(N)))\n",
    "subsets = problem(N, seed=42)\n",
    "initial_state = State(np.array([subsets[0]]))\n",
    "\n",
    "parents = dict()\n",
    "cost_of_each_state = dict()\n",
    "\n",
    "def h(state):\n",
    "    num_undiscovered_elements = len(set(range(N)) - set(list(itertools.chain.from_iterable(state.copy_data().tolist()))))\n",
    "    return num_undiscovered_elements\n",
    "\n",
    "astar_search(\n",
    "    initial_state = initial_state,\n",
    "    subsets = subsets,\n",
    "    are_we_done = are_we_done,\n",
    "    parents = parents,\n",
    "    cost_of_each_state = cost_of_each_state,\n",
    "    priority_function = lambda state: cost_of_each_state[state] + h(state),\n",
    "    unit_cost = lambda subset: len(subset),\n",
    "    N = N\n",
    ")"
   ]
  },
  {
   "cell_type": "code",
   "execution_count": 33,
   "metadata": {},
   "outputs": [],
   "source": [
    "class AStarSearch:\n",
    "    def __init__(self, N, seed=42):\n",
    "        # N is the number of elements to expect\n",
    "        self.N = N\n",
    "        self.seed = seed\n",
    "    \n",
    "    def add_to_state(self, st, subset):\n",
    "        state_list = st.copy_data().tolist()\n",
    "        state_list.append(subset)\n",
    "        return State(np.asarray(state_list, dtype=object))\n",
    "\n",
    "    def are_we_done(self, state):\n",
    "        flattened_list = self.flatten_list(state.copy_data().tolist())\n",
    "        for i in range(N):\n",
    "            if i not in flattened_list:\n",
    "                return False\n",
    "        # print(\"We are done\")\n",
    "        return True\n",
    "    \n",
    "    def flatten_list(self, l):\n",
    "        return list(itertools.chain.from_iterable(l))\n",
    "    \n",
    "    def h(self, state):\n",
    "        '''\n",
    "        Heuristic Function h(n) = number of undiscovered elements\n",
    "        '''\n",
    "        num_undiscovered_elements = len(set(range(N)) - set(self.flatten_list(state.copy_data().tolist())))\n",
    "        return num_undiscovered_elements\n",
    "\n",
    "    def astar_search(\n",
    "        self,\n",
    "        initial_state: State,\n",
    "        subsets: list,\n",
    "        are_we_done: Callable,\n",
    "        parents: dict,\n",
    "        cost_of_each_state: dict,\n",
    "        priority_function: Callable,\n",
    "        unit_cost: Callable,\n",
    "        N: int\n",
    "    ):\n",
    "        frontier = PriorityQueue()\n",
    "        parents.clear()\n",
    "        cost_of_each_state.clear()\n",
    "        \n",
    "        state = initial_state\n",
    "        parents[state] = None\n",
    "        cost_of_each_state[state] = 0\n",
    "        # to find length at the end without needed to flatten the state\n",
    "        discovered_elements = []\n",
    "        \n",
    "        while state is not None and not are_we_done(N, state):\n",
    "            for subset in subsets:\n",
    "                # if this list has already been collected, skip\n",
    "                if subset in state.copy_data():\n",
    "                    # print(\"Already in\")\n",
    "                    continue\n",
    "                new_state = self.add_to_state(state, subset)\n",
    "                state_cost = unit_cost(subset)\n",
    "                # if new_state not in cost_of_each_state or cost_of_each_state[new_state] > cost_of_each_state[state] + state_cost:\n",
    "                if new_state not in cost_of_each_state and new_state not in frontier:\n",
    "                    parents[new_state] = state\n",
    "                    cost_of_each_state[new_state] = cost_of_each_state[state] + state_cost\n",
    "                    frontier.push(new_state, p=priority_function(new_state))\n",
    "                elif new_state in frontier and cost_of_each_state[new_state] > cost_of_each_state[state] + state_cost:\n",
    "                    parents[new_state] = state\n",
    "                    cost_of_each_state[new_state] = cost_of_each_state[state] + state_cost\n",
    "            if frontier:\n",
    "                state = frontier.pop()\n",
    "            else:\n",
    "                state = None\n",
    "\n",
    "        path = list()\n",
    "        s = state\n",
    "\n",
    "        while s:\n",
    "            path.append(s.copy_data())\n",
    "            s = parents[s]\n",
    "\n",
    "        print(f\"Length of final list: {len(self.flatten_list(path[0]))}\")\n",
    "        print(f\"Found a solution in {len(path):,} steps; visited {len(cost_of_each_state):,} states\")\n",
    "        return list(reversed(path))\n",
    "    \n",
    "    def search(self):\n",
    "        GOAL = State(np.array(range(self.N)))\n",
    "        subsets = problem(N, seed=self.seed)\n",
    "        initial_state = State(np.array([subsets[0]]))\n",
    "\n",
    "        parents = dict()\n",
    "        cost_of_each_state = dict()\n",
    "\n",
    "        self.astar_search(\n",
    "            initial_state = initial_state,\n",
    "            subsets = subsets,\n",
    "            are_we_done = are_we_done,\n",
    "            parents = parents,\n",
    "            cost_of_each_state = cost_of_each_state,\n",
    "            priority_function = lambda state: cost_of_each_state[state] + h(state),\n",
    "            unit_cost = lambda subset: len(subset),\n",
    "            N = N\n",
    "        )"
   ]
  },
  {
   "cell_type": "code",
   "execution_count": 34,
   "metadata": {},
   "outputs": [
    {
     "name": "stderr",
     "output_type": "stream",
     "text": [
      "<ipython-input-33-52be4257a515>:54: DeprecationWarning: elementwise comparison failed; this will raise an error in the future.\n",
      "  if subset in state.copy_data():\n"
     ]
    },
    {
     "name": "stdout",
     "output_type": "stream",
     "text": [
      "Length of final list: 23\n",
      "Found a solution in 5 steps; visited 57,658 states\n"
     ]
    }
   ],
   "source": [
    "engine = AStarSearch(N=20, seed=42)\n",
    "engine.search()"
   ]
  },
  {
   "cell_type": "code",
   "execution_count": null,
   "metadata": {},
   "outputs": [],
   "source": []
  }
 ],
 "metadata": {
  "kernelspec": {
   "display_name": "Python 3.8.2 64-bit",
   "language": "python",
   "name": "python3"
  },
  "language_info": {
   "codemirror_mode": {
    "name": "ipython",
    "version": 3
   },
   "file_extension": ".py",
   "mimetype": "text/x-python",
   "name": "python",
   "nbconvert_exporter": "python",
   "pygments_lexer": "ipython3",
   "version": "3.8.2"
  },
  "orig_nbformat": 4,
  "vscode": {
   "interpreter": {
    "hash": "aee8b7b246df8f9039afb4144a1f6fd8d2ca17a180786b69acc140d282b71a49"
   }
  }
 },
 "nbformat": 4,
 "nbformat_minor": 2
}
