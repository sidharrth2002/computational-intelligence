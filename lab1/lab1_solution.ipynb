{
 "cells": [
  {
   "cell_type": "markdown",
   "metadata": {},
   "source": [
    "# Set Cover Problem\n",
    "\n",
    "The set cover problem is a combinatorial optimization problem. The problem is to find the smallest set of sets that covers all elements of a given universe. For example, suppose we have a universe of 10 elements and 5 sets, each of which contains a subset of the universe. The goal is to find the smallest set of sets that covers all elements of the universe. \n",
    "\n",
    "Since the problem is NP-hard, we have to use a heuristic algorithm to solve and there exists no theoretically polynomial time algorithm.\n",
    "\n",
    "In this notebook, I will attempt to solve the set cover problem using the following algorithms:\n",
    "1. Naive Greedy\n",
    "2. Greedy with a better cost function\n",
    "3. Building a Fully Connected Graph and over-complicating things\n",
    "2. Breadth First Traversal\n",
    "3. A* Traversal\n",
    "\n",
    "> Sidharrth Nagappan, 2022"
   ]
  },
  {
   "cell_type": "markdown",
   "metadata": {},
   "source": [
    "### Necessary Imports"
   ]
  },
  {
   "cell_type": "code",
   "execution_count": 2,
   "metadata": {},
   "outputs": [],
   "source": [
    "import random\n",
    "from collections import deque\n",
    "import itertools\n",
    "import time"
   ]
  },
  {
   "cell_type": "markdown",
   "metadata": {},
   "source": [
    "### Building the problem set"
   ]
  },
  {
   "cell_type": "code",
   "execution_count": 5,
   "metadata": {},
   "outputs": [
    {
     "name": "stdout",
     "output_type": "stream",
     "text": [
      "N = [[0], [1], [0], [4], [0], [1], [4], [4], [4], [1, 3], [0, 1], [2], [1], [0], [0, 2], [2, 4], [3], [3], [4], [2, 4], [0], [1], [0, 1], [3], [2, 3]]\n"
     ]
    }
   ],
   "source": [
    "# setting a constant seed for reproducibility\n",
    "SEED = 42\n",
    "\n",
    "def problem(N, seed=SEED):\n",
    "    random.seed(seed)\n",
    "    return [\n",
    "        list(set(random.randint(0, N - 1) for n in range(random.randint(N // 5, N // 2))))\n",
    "        for n in range(random.randint(N, N * 5))\n",
    "    ]\n",
    "\n",
    "for n in [5]:\n",
    "    print(f\"N = {problem(n)}\")"
   ]
  },
  {
   "cell_type": "markdown",
   "metadata": {},
   "source": [
    "### Naive Greedy Algorithm\n",
    "\n",
    "The greedy algorithm essentially traverses through a sorted list of subsets and keeps adding the subset to the solution set if it covers any new elements. The algorithm is very naive as it does not take into account the number of new elements."
   ]
  },
  {
   "cell_type": "code",
   "execution_count": 6,
   "metadata": {},
   "outputs": [],
   "source": [
    "def greedy(N):\n",
    "    goal = set(range(N))\n",
    "    covered = set()\n",
    "    solution = list()\n",
    "    all_lists = sorted(problem(N, seed=42), key=lambda l: len(l))\n",
    "    while goal != covered:\n",
    "        x = all_lists.pop(0)\n",
    "        if not set(x) < covered:\n",
    "            solution.append(x)\n",
    "            covered |= set(x)\n",
    "\n",
    "    print(\n",
    "        f\"Naive greedy solution for N={N}: w={sum(len(_) for _ in solution)} (bloat={(sum(len(_) for _ in solution)-N)/N*100:.0f}%)\"\n",
    "    )"
   ]
  },
  {
   "cell_type": "markdown",
   "metadata": {},
   "source": [
    "### Smarter Greedy Algorithm (Sorting at each step)\n",
    "\n",
    "In real-life scenarios, the cost depends on the relative price of visiting a node/choosing an option. Since we consider all options to be arbitrarily priced, we use a constant cost of 1. This version of the greedy algorithm takes the subset with the lowest $f$ where:\n",
    "\n",
    "- $S_e$ is the expected solution (containing all the unique elements)\n",
    "- $n_i$ is the current subset\n",
    "- The cost is set to 1 here, since there is no \"business\" cost associated with choosing a subset\n",
    "\n",
    "$$f_i = 1 / |n_i - S_e|$$"
   ]
  },
  {
   "cell_type": "code",
   "execution_count": null,
   "metadata": {},
   "outputs": [],
   "source": [
    "def set_covering_problem_greedy(expected_solution, subsets, costs):\n",
    "    cost = 0\n",
    "    visited_nodes = 0\n",
    "    already_discovered = set()\n",
    "    final_solution = []\n",
    "    while covered != expected_solution:\n",
    "        subset = min(subsets, key=lambda s: costs[subsets.index(s)] / (len(s-covered) + 1))\n",
    "        final_solution.append(subset)\n",
    "        cost += costs[subsets.index(subset)]\n",
    "        visited = visited+1\n",
    "        covered |= subset\n",
    "    print(\"NUMBER OF VISITED NODES: \", visited)\n",
    "    print(\"w: \", sum(len(_) for _ in final_solution))\n",
    "    return final_solution, cost"
   ]
  }
 ],
 "metadata": {
  "kernelspec": {
   "display_name": "Python 3.8.2 64-bit",
   "language": "python",
   "name": "python3"
  },
  "language_info": {
   "codemirror_mode": {
    "name": "ipython",
    "version": 3
   },
   "file_extension": ".py",
   "mimetype": "text/x-python",
   "name": "python",
   "nbconvert_exporter": "python",
   "pygments_lexer": "ipython3",
   "version": "3.8.2"
  },
  "orig_nbformat": 4,
  "vscode": {
   "interpreter": {
    "hash": "aee8b7b246df8f9039afb4144a1f6fd8d2ca17a180786b69acc140d282b71a49"
   }
  }
 },
 "nbformat": 4,
 "nbformat_minor": 2
}
