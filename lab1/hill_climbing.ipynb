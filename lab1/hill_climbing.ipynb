{
 "cells": [
  {
   "cell_type": "markdown",
   "metadata": {},
   "source": [
    "### Hill Climbing"
   ]
  },
  {
   "cell_type": "code",
   "execution_count": 1,
   "metadata": {},
   "outputs": [
    {
     "name": "stdout",
     "output_type": "stream",
     "text": [
      "N = [[0], [1], [0], [4], [0], [1], [4], [4], [4], [1, 3], [0, 1], [2], [1], [0], [0, 2], [2, 4], [3], [3], [4], [2, 4], [0], [1], [0, 1], [3], [2, 3]]\n"
     ]
    }
   ],
   "source": [
    "import random\n",
    "\n",
    "# setting a constant seed for reproducibility\n",
    "SEED = 42\n",
    "\n",
    "def problem(N, seed=SEED):\n",
    "    random.seed(seed)\n",
    "    return [\n",
    "        list(set(random.randint(0, N - 1) for n in range(random.randint(N // 5, N // 2))))\n",
    "        for n in range(random.randint(N, N * 5))\n",
    "    ]\n",
    "\n",
    "for n in [5]:\n",
    "    print(f\"N = {problem(n)}\")"
   ]
  },
  {
   "cell_type": "code",
   "execution_count": 2,
   "metadata": {},
   "outputs": [],
   "source": [
    "from collections import Counter\n",
    "from copy import copy\n",
    "\n",
    "def hill_climbing(N, all_lists):\n",
    "    all_lists = set(tuple(_) for _ in all_lists)\n",
    "    \n",
    "    def evaluate(state):\n",
    "        cnt = Counter()\n",
    "        cnt.update(sum((e for e in state), start=()))\n",
    "        return len(cnt), -cnt.total()\n",
    "    \n",
    "    def tweak(solution):\n",
    "        new_solution = set(solution)\n",
    "        # randomly remove or add a list\n",
    "        while new_solution and random.random() < 0.7:\n",
    "            r = random.choice(list(new_solution))\n",
    "            new_solution.remove(r)\n",
    "        while random.random() < 0.7:\n",
    "            a = random.choice(list(all_lists - solution))\n",
    "            new_solution.add(a)\n",
    "        return new_solution\n",
    "\n",
    "    current_solution = set()\n",
    "    useless_steps = 0\n",
    "    while useless_steps < 10000:\n",
    "        useless_steps += 1\n",
    "        candidate_solution = tweak(current_solution)\n",
    "        if evaluate(candidate_solution) > evaluate(current_solution):\n",
    "            current_solution = copy(candidate_solution)\n",
    "            useless_steps = 0\n",
    "            \n",
    "    return current_solution"
   ]
  },
  {
   "cell_type": "code",
   "execution_count": null,
   "metadata": {},
   "outputs": [],
   "source": [
    "for N in [5, 10, 20, 100, 500, 1000]:\n",
    "    solution = hill_climbing(N, problem(N, seed=42))\n",
    "    print(\n",
    "        f\" Solution for N={N:,}: \"\n",
    "        + f\"w={sum(len(_) for _ in solution):,} \"\n",
    "        + f\"(bloat={(sum(len(_) for _ in solution)-N)/N*100:.0f}%)\"\n",
    "    )"
   ]
  },
  {
   "cell_type": "code",
   "execution_count": null,
   "metadata": {},
   "outputs": [],
   "source": []
  }
 ],
 "metadata": {
  "kernelspec": {
   "display_name": "Python 3.8.2 64-bit",
   "language": "python",
   "name": "python3"
  },
  "language_info": {
   "codemirror_mode": {
    "name": "ipython",
    "version": 3
   },
   "file_extension": ".py",
   "mimetype": "text/x-python",
   "name": "python",
   "nbconvert_exporter": "python",
   "pygments_lexer": "ipython3",
   "version": "3.8.2"
  },
  "orig_nbformat": 4,
  "vscode": {
   "interpreter": {
    "hash": "aee8b7b246df8f9039afb4144a1f6fd8d2ca17a180786b69acc140d282b71a49"
   }
  }
 },
 "nbformat": 4,
 "nbformat_minor": 2
}
